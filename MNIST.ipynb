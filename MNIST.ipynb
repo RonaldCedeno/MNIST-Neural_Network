{
  "nbformat": 4,
  "nbformat_minor": 0,
  "metadata": {
    "colab": {
      "provenance": [],
      "collapsed_sections": [],
      "authorship_tag": "ABX9TyM2T1ONYyeyL+QvKrRM6B0p",
      "include_colab_link": true
    },
    "kernelspec": {
      "name": "python3",
      "display_name": "Python 3"
    },
    "language_info": {
      "name": "python"
    }
  },
  "cells": [
    {
      "cell_type": "markdown",
      "metadata": {
        "id": "view-in-github",
        "colab_type": "text"
      },
      "source": [
        "<a href=\"https://colab.research.google.com/github/RonaldCedeno/MNIST-Neural_Network/blob/main/MNIST.ipynb\" target=\"_parent\"><img src=\"https://colab.research.google.com/assets/colab-badge.svg\" alt=\"Open In Colab\"/></a>"
      ]
    },
    {
      "cell_type": "markdown",
      "source": [
        "# Image Classification - Neural Network: Multi-Layer Perceptron"
      ],
      "metadata": {
        "id": "rXRpWyaxAlSk"
      }
    },
    {
      "cell_type": "markdown",
      "source": [
        "A widely used dataset called MNIST will be used, using Keras for model creation and training.\n",
        "\n",
        "MNIST data set contains:\n",
        "\n",
        "- 60,000 training data\n",
        "- 10,000 validation data\n",
        "- Each image is 28x28 pixels\n",
        "- The classification will be carried out using 1 Neural Network with a hidden layer containing 15 neurons."
      ],
      "metadata": {
        "id": "ytrLYWIKnqw2"
      }
    },
    {
      "cell_type": "markdown",
      "source": [
        "## Libraries"
      ],
      "metadata": {
        "id": "XwR_dkHPBOvI"
      }
    },
    {
      "cell_type": "code",
      "execution_count": 1,
      "metadata": {
        "id": "O-OSaX08ADe7"
      },
      "outputs": [],
      "source": [
        "from keras.datasets import mnist\n",
        "from keras.models import Sequential\n",
        "from keras.layers import Dense\n",
        "from keras.utils import np_utils\n",
        "from tensorflow.keras.optimizers import SGD \n",
        "\n",
        "import matplotlib.pyplot as plt\n",
        "import numpy as np"
      ]
    },
    {
      "cell_type": "markdown",
      "source": [
        "## Reading and visualization of data"
      ],
      "metadata": {
        "id": "WcHfADk5BHNr"
      }
    },
    {
      "cell_type": "code",
      "source": [
        "(x_train, y_train), (x_test, y_test) = mnist.load_data()"
      ],
      "metadata": {
        "id": "FgrB1D4_BajT"
      },
      "execution_count": 2,
      "outputs": []
    },
    {
      "cell_type": "code",
      "source": [
        "print('x_train: {}\\ny_train: {}\\nx_test: {}\\ny_test: {}'.format(x_train.shape, y_train.shape, x_test.shape, y_test.shape))"
      ],
      "metadata": {
        "colab": {
          "base_uri": "https://localhost:8080/"
        },
        "id": "vL9Z58tOPSVa",
        "outputId": "3655a52d-b0ca-4f3e-9077-ea82767cb784"
      },
      "execution_count": 3,
      "outputs": [
        {
          "output_type": "stream",
          "name": "stdout",
          "text": [
            "x_train: (60000, 28, 28)\n",
            "y_train: (60000,)\n",
            "x_test: (10000, 28, 28)\n",
            "y_test: (10000,)\n"
          ]
        }
      ]
    },
    {
      "cell_type": "code",
      "source": [
        "# Show 16 random images taken from the 'x_train' set\n",
        "ids_imgs = np.random.randint(0, x_train.shape[0], 16)\n",
        "for i in range(len(ids_imgs)):\n",
        "  img = x_train[ids_imgs[i],:,:]\n",
        "  plt.subplot(4,4,i+1)\n",
        "  plt.tight_layout()\n",
        "  plt.imshow(img, cmap='gray')\n",
        "  plt.axis('off')\n",
        "  plt.title(y_train[ids_imgs[i]])\n",
        "plt.savefig('training_data.png')"
      ],
      "metadata": {
        "id": "RKuycNdaJ87q",
        "colab": {
          "base_uri": "https://localhost:8080/",
          "height": 280
        },
        "outputId": "e11448fe-af36-43c3-b991-c7bac36db5f6"
      },
      "execution_count": 4,
      "outputs": [
        {
          "output_type": "display_data",
          "data": {
            "text/plain": [
              "<Figure size 432x288 with 16 Axes>"
            ],
            "image/png": "[encoded data removed]"
          },
          "metadata": {
            "needs_background": "light"
          }
        }
      ]
    },
    {
      "cell_type": "markdown",
      "source": [
        "## Preprocessing"
      ],
      "metadata": {
        "id": "IKiW5R9spth9"
      }
    },
    {
      "cell_type": "code",
      "source": [
        "# Each of the images must be \"flattened\" into a vector of 28x28 = 784 values\n",
        "# It will go from 60,000 data of 28x28 (60000x28x28) to 60,000 data of 784 (60000x784)\n",
        "X_train = np.reshape(x_train, (x_train.shape[0],x_train.shape[1]*x_train.shape[2]))\n",
        "X_test = np.reshape(x_test, (x_test.shape[0],x_test.shape[1]*x_test.shape[2]))\n",
        "\n",
        "# Intensities are Normalized to the range 0-1\n",
        "X_train = X_train/255.0\n",
        "X_test = X_test/255.0\n",
        "\n",
        "# Finally, for multiclass classification y_train & y_test is converted to \"One Hot Encoding\" representation\n",
        "nclasses = 10\n",
        "Y_train = np_utils.to_categorical(y_train,nclasses)\n",
        "Y_test = np_utils.to_categorical(y_test,nclasses)"
      ],
      "metadata": {
        "id": "zDyRSlmsS1z2"
      },
      "execution_count": 5,
      "outputs": []
    },
    {
      "cell_type": "markdown",
      "source": [
        "## Model Creation"
      ],
      "metadata": {
        "id": "T2yEMvAWe0yv"
      }
    },
    {
      "cell_type": "markdown",
      "source": [
        "- **Input layer:** Its dimension will be 784 (The size of each flattened image)\n",
        "- **Hidden layer:** 15 neurons with ReLU activation\n",
        "- **Output layer:** Activation function \"Softmax\" (Multiclass Classification) and a total of 10 categories"
      ],
      "metadata": {
        "id": "3UofknHZ1_IC"
      }
    },
    {
      "cell_type": "code",
      "source": [
        "# For training reproducibility\n",
        "np.random.seed(1)\n",
        "\n",
        "# Dimension of the INPUT and OUTPUT vectors of the training data\n",
        "input_dim = X_train.shape[1]\n",
        "output_dim = Y_train.shape[1]"
      ],
      "metadata": {
        "id": "M1r9g9KbuPlb"
      },
      "execution_count": 6,
      "outputs": []
    },
    {
      "cell_type": "code",
      "source": [
        "modelo = Sequential()\n",
        "\n",
        "# Create input and hidden layer\n",
        "modelo.add(Dense(15, input_dim=input_dim, activation='relu'))\n",
        "\n",
        "# Create output layer\n",
        "modelo.add(Dense(output_dim, activation='softmax'))"
      ],
      "metadata": {
        "id": "1wpJryymetFx"
      },
      "execution_count": 7,
      "outputs": []
    },
    {
      "cell_type": "code",
      "source": [
        "modelo.summary()"
      ],
      "metadata": {
        "colab": {
          "base_uri": "https://localhost:8080/"
        },
        "id": "pTMMS9CShWG4",
        "outputId": "ab6b9b09-a557-47d6-9c27-2a99ada1871b"
      },
      "execution_count": 8,
      "outputs": [
        {
          "output_type": "stream",
          "name": "stdout",
          "text": [
            "Model: \"sequential\"\n",
            "_________________________________________________________________\n",
            " Layer (type)                Output Shape              Param #   \n",
            "=================================================================\n",
            " dense (Dense)               (None, 15)                11775     \n",
            "                                                                 \n",
            " dense_1 (Dense)             (None, 10)                160       \n",
            "                                                                 \n",
            "=================================================================\n",
            "Total params: 11,935\n",
            "Trainable params: 11,935\n",
            "Non-trainable params: 0\n",
            "_________________________________________________________________\n"
          ]
        }
      ]
    },
    {
      "cell_type": "markdown",
      "source": [
        "## Compilation and training"
      ],
      "metadata": {
        "id": "psoJeG_SkRWM"
      }
    },
    {
      "cell_type": "markdown",
      "source": [
        "Using Gradient Descender\n",
        "- Learning rate = 0.2\n",
        "- Error function: Cross Entropy\n",
        "- Performance metric: Accuracy"
      ],
      "metadata": {
        "id": "afi6IRPjun7F"
      }
    },
    {
      "cell_type": "code",
      "source": [
        "sgd = SGD(learning_rate=0.2)\n",
        "modelo.compile(loss='categorical_crossentropy', optimizer=sgd, metrics=['accuracy'])"
      ],
      "metadata": {
        "id": "nFtOnW1IkVCd"
      },
      "execution_count": 9,
      "outputs": []
    },
    {
      "cell_type": "code",
      "source": [
        "modelo.summary()"
      ],
      "metadata": {
        "colab": {
          "base_uri": "https://localhost:8080/"
        },
        "id": "iRXVS4ak2C41",
        "outputId": "c640b5be-a7da-4314-fd19-1a9da7a21eb9"
      },
      "execution_count": 10,
      "outputs": [
        {
          "output_type": "stream",
          "name": "stdout",
          "text": [
            "Model: \"sequential\"\n",
            "_________________________________________________________________\n",
            " Layer (type)                Output Shape              Param #   \n",
            "=================================================================\n",
            " dense (Dense)               (None, 15)                11775     \n",
            "                                                                 \n",
            " dense_1 (Dense)             (None, 10)                160       \n",
            "                                                                 \n",
            "=================================================================\n",
            "Total params: 11,935\n",
            "Trainable params: 11,935\n",
            "Non-trainable params: 0\n",
            "_________________________________________________________________\n"
          ]
        }
      ]
    },
    {
      "cell_type": "code",
      "source": [
        "# For the training, 50 iterations and a batch size of 1024 will be used.\n",
        "num_epochs = 50\n",
        "batch_size = 1024\n",
        "historia = modelo.fit(X_train, Y_train, epochs=num_epochs, batch_size=batch_size, verbose=2)"
      ],
      "metadata": {
        "colab": {
          "base_uri": "https://localhost:8080/"
        },
        "id": "V1wyIeb6s3Bs",
        "outputId": "6fbeb401-03cc-4195-af81-b7671a99bcf4"
      },
      "execution_count": 11,
      "outputs": [
        {
          "output_type": "stream",
          "name": "stdout",
          "text": [
            "Epoch 1/50\n",
            "59/59 - 2s - loss: 1.0027 - accuracy: 0.7310 - 2s/epoch - 31ms/step\n",
            "Epoch 2/50\n",
            "59/59 - 1s - loss: 0.4380 - accuracy: 0.8821 - 758ms/epoch - 13ms/step\n",
            "Epoch 3/50\n",
            "59/59 - 1s - loss: 0.3701 - accuracy: 0.8979 - 763ms/epoch - 13ms/step\n",
            "Epoch 4/50\n",
            "59/59 - 1s - loss: 0.3411 - accuracy: 0.9038 - 940ms/epoch - 16ms/step\n",
            "Epoch 5/50\n",
            "59/59 - 1s - loss: 0.3222 - accuracy: 0.9086 - 1s/epoch - 17ms/step\n",
            "Epoch 6/50\n",
            "59/59 - 1s - loss: 0.3087 - accuracy: 0.9129 - 680ms/epoch - 12ms/step\n",
            "Epoch 7/50\n",
            "59/59 - 1s - loss: 0.2983 - accuracy: 0.9154 - 680ms/epoch - 12ms/step\n",
            "Epoch 8/50\n",
            "59/59 - 1s - loss: 0.2899 - accuracy: 0.9177 - 807ms/epoch - 14ms/step\n",
            "Epoch 9/50\n",
            "59/59 - 1s - loss: 0.2808 - accuracy: 0.9204 - 747ms/epoch - 13ms/step\n",
            "Epoch 10/50\n",
            "59/59 - 1s - loss: 0.2732 - accuracy: 0.9226 - 705ms/epoch - 12ms/step\n",
            "Epoch 11/50\n",
            "59/59 - 1s - loss: 0.2669 - accuracy: 0.9241 - 749ms/epoch - 13ms/step\n",
            "Epoch 12/50\n",
            "59/59 - 1s - loss: 0.2602 - accuracy: 0.9265 - 760ms/epoch - 13ms/step\n",
            "Epoch 13/50\n",
            "59/59 - 1s - loss: 0.2545 - accuracy: 0.9280 - 638ms/epoch - 11ms/step\n",
            "Epoch 14/50\n",
            "59/59 - 1s - loss: 0.2485 - accuracy: 0.9291 - 681ms/epoch - 12ms/step\n",
            "Epoch 15/50\n",
            "59/59 - 1s - loss: 0.2441 - accuracy: 0.9310 - 723ms/epoch - 12ms/step\n",
            "Epoch 16/50\n",
            "59/59 - 1s - loss: 0.2393 - accuracy: 0.9320 - 708ms/epoch - 12ms/step\n",
            "Epoch 17/50\n",
            "59/59 - 1s - loss: 0.2347 - accuracy: 0.9334 - 663ms/epoch - 11ms/step\n",
            "Epoch 18/50\n",
            "59/59 - 1s - loss: 0.2301 - accuracy: 0.9347 - 685ms/epoch - 12ms/step\n",
            "Epoch 19/50\n",
            "59/59 - 1s - loss: 0.2266 - accuracy: 0.9356 - 637ms/epoch - 11ms/step\n",
            "Epoch 20/50\n",
            "59/59 - 1s - loss: 0.2229 - accuracy: 0.9357 - 599ms/epoch - 10ms/step\n",
            "Epoch 21/50\n",
            "59/59 - 1s - loss: 0.2194 - accuracy: 0.9376 - 578ms/epoch - 10ms/step\n",
            "Epoch 22/50\n",
            "59/59 - 1s - loss: 0.2155 - accuracy: 0.9392 - 578ms/epoch - 10ms/step\n",
            "Epoch 23/50\n",
            "59/59 - 1s - loss: 0.2125 - accuracy: 0.9397 - 689ms/epoch - 12ms/step\n",
            "Epoch 24/50\n",
            "59/59 - 1s - loss: 0.2095 - accuracy: 0.9404 - 727ms/epoch - 12ms/step\n",
            "Epoch 25/50\n",
            "59/59 - 1s - loss: 0.2062 - accuracy: 0.9415 - 724ms/epoch - 12ms/step\n",
            "Epoch 26/50\n",
            "59/59 - 0s - loss: 0.2040 - accuracy: 0.9419 - 491ms/epoch - 8ms/step\n",
            "Epoch 27/50\n",
            "59/59 - 0s - loss: 0.2009 - accuracy: 0.9426 - 412ms/epoch - 7ms/step\n",
            "Epoch 28/50\n",
            "59/59 - 0s - loss: 0.1983 - accuracy: 0.9435 - 413ms/epoch - 7ms/step\n",
            "Epoch 29/50\n",
            "59/59 - 0s - loss: 0.1957 - accuracy: 0.9445 - 396ms/epoch - 7ms/step\n",
            "Epoch 30/50\n",
            "59/59 - 0s - loss: 0.1937 - accuracy: 0.9446 - 411ms/epoch - 7ms/step\n",
            "Epoch 31/50\n",
            "59/59 - 0s - loss: 0.1913 - accuracy: 0.9457 - 437ms/epoch - 7ms/step\n",
            "Epoch 32/50\n",
            "59/59 - 0s - loss: 0.1895 - accuracy: 0.9461 - 471ms/epoch - 8ms/step\n",
            "Epoch 33/50\n",
            "59/59 - 0s - loss: 0.1872 - accuracy: 0.9465 - 454ms/epoch - 8ms/step\n",
            "Epoch 34/50\n",
            "59/59 - 0s - loss: 0.1855 - accuracy: 0.9469 - 438ms/epoch - 7ms/step\n",
            "Epoch 35/50\n",
            "59/59 - 0s - loss: 0.1836 - accuracy: 0.9474 - 415ms/epoch - 7ms/step\n",
            "Epoch 36/50\n",
            "59/59 - 0s - loss: 0.1815 - accuracy: 0.9482 - 397ms/epoch - 7ms/step\n",
            "Epoch 37/50\n",
            "59/59 - 0s - loss: 0.1801 - accuracy: 0.9491 - 412ms/epoch - 7ms/step\n",
            "Epoch 38/50\n",
            "59/59 - 0s - loss: 0.1786 - accuracy: 0.9490 - 416ms/epoch - 7ms/step\n",
            "Epoch 39/50\n",
            "59/59 - 0s - loss: 0.1769 - accuracy: 0.9493 - 448ms/epoch - 8ms/step\n",
            "Epoch 40/50\n",
            "59/59 - 0s - loss: 0.1748 - accuracy: 0.9499 - 459ms/epoch - 8ms/step\n",
            "Epoch 41/50\n",
            "59/59 - 0s - loss: 0.1738 - accuracy: 0.9506 - 407ms/epoch - 7ms/step\n",
            "Epoch 42/50\n",
            "59/59 - 0s - loss: 0.1725 - accuracy: 0.9506 - 413ms/epoch - 7ms/step\n",
            "Epoch 43/50\n",
            "59/59 - 0s - loss: 0.1714 - accuracy: 0.9510 - 391ms/epoch - 7ms/step\n",
            "Epoch 44/50\n",
            "59/59 - 0s - loss: 0.1701 - accuracy: 0.9509 - 427ms/epoch - 7ms/step\n",
            "Epoch 45/50\n",
            "59/59 - 0s - loss: 0.1681 - accuracy: 0.9523 - 395ms/epoch - 7ms/step\n",
            "Epoch 46/50\n",
            "59/59 - 0s - loss: 0.1672 - accuracy: 0.9519 - 397ms/epoch - 7ms/step\n",
            "Epoch 47/50\n",
            "59/59 - 0s - loss: 0.1662 - accuracy: 0.9520 - 407ms/epoch - 7ms/step\n",
            "Epoch 48/50\n",
            "59/59 - 0s - loss: 0.1648 - accuracy: 0.9527 - 435ms/epoch - 7ms/step\n",
            "Epoch 49/50\n",
            "59/59 - 0s - loss: 0.1635 - accuracy: 0.9527 - 453ms/epoch - 8ms/step\n",
            "Epoch 50/50\n",
            "59/59 - 0s - loss: 0.1629 - accuracy: 0.9532 - 456ms/epoch - 8ms/step\n"
          ]
        }
      ]
    },
    {
      "cell_type": "code",
      "source": [
        "modelo.summary()"
      ],
      "metadata": {
        "colab": {
          "base_uri": "https://localhost:8080/"
        },
        "id": "aKaqV_2Uo7FR",
        "outputId": "d37301dc-f41a-4635-e0d9-e90fc4b7aaf5"
      },
      "execution_count": 12,
      "outputs": [
        {
          "output_type": "stream",
          "name": "stdout",
          "text": [
            "Model: \"sequential\"\n",
            "_________________________________________________________________\n",
            " Layer (type)                Output Shape              Param #   \n",
            "=================================================================\n",
            " dense (Dense)               (None, 15)                11775     \n",
            "                                                                 \n",
            " dense_1 (Dense)             (None, 10)                160       \n",
            "                                                                 \n",
            "=================================================================\n",
            "Total params: 11,935\n",
            "Trainable params: 11,935\n",
            "Non-trainable params: 0\n",
            "_________________________________________________________________\n"
          ]
        }
      ]
    },
    {
      "cell_type": "markdown",
      "source": [
        "## Results and visualization"
      ],
      "metadata": {
        "id": "GyxkZMOYo_zM"
      }
    },
    {
      "cell_type": "code",
      "source": [
        "# Loss vs. Iterations\n",
        "_ = plt.subplot(1,1,1)\n",
        "_ = plt.plot(historia.history['loss'])\n",
        "_ = plt.title(\"Loss vs. Iterations\")\n",
        "_ = plt.ylabel(\"Loss\")\n",
        "_ = plt.xlabel(\"Iterations\")\n",
        "plt.savefig('loss_iterations.png')"
      ],
      "metadata": {
        "colab": {
          "base_uri": "https://localhost:8080/",
          "height": 295
        },
        "id": "wnPhyyeAo9-w",
        "outputId": "bb845e1b-84cc-4dbd-c5f8-e3411e4958cb"
      },
      "execution_count": 13,
      "outputs": [
        {
          "output_type": "display_data",
          "data": {
            "text/plain": [
              "<Figure size 432x288 with 1 Axes>"
            ],
            "image/png": "[encoded data removed]"
          },
          "metadata": {
            "needs_background": "light"
          }
        }
      ]
    },
    {
      "cell_type": "code",
      "source": [
        "# Accuracy vs. Iterations\n",
        "_ = plt.subplot(1,1,1)\n",
        "_ = plt.plot(historia.history['accuracy'])\n",
        "_ = plt.title(\"Accuracy vs. Iterations\")\n",
        "_ = plt.ylabel(\"Accuracy\")\n",
        "_ = plt.xlabel(\"Iterations\")\n",
        "plt.savefig('accuracy_iterations.png')"
      ],
      "metadata": {
        "colab": {
          "base_uri": "https://localhost:8080/",
          "height": 295
        },
        "id": "KrZp_fk4pdyX",
        "outputId": "b697f4a3-620c-4cc4-daf5-5c92267e7460"
      },
      "execution_count": 14,
      "outputs": [
        {
          "output_type": "display_data",
          "data": {
            "text/plain": [
              "<Figure size 432x288 with 1 Axes>"
            ],
            "image/png": "[encoded data removed]"
          },
          "metadata": {
            "needs_background": "light"
          }
        }
      ]
    },
    {
      "cell_type": "code",
      "source": [
        "# Prediction on the validation set\n",
        "Y_pred = modelo.predict(X_test)"
      ],
      "metadata": {
        "id": "jqbGqTic5cvP"
      },
      "execution_count": 15,
      "outputs": []
    },
    {
      "cell_type": "code",
      "source": [
        "categ_original = np.argmax(Y_test, axis=1)\n",
        "categ_prediction = np.argmax(Y_pred, axis=1)"
      ],
      "metadata": {
        "id": "xKfHw27Lwrr5"
      },
      "execution_count": 16,
      "outputs": []
    },
    {
      "cell_type": "code",
      "source": [
        "# Show 9 random images of the prediction\n",
        "ids_imgs = np.random.randint(0, X_test.shape[0], 9)\n",
        "for i in range(len(ids_imgs)):\n",
        "  idx = ids_imgs[i]\n",
        "  img = X_test[idx,:].reshape(28,28)\n",
        "\n",
        "  plt.subplot(3,3,i+1)\n",
        "  plt.tight_layout()\n",
        "  plt.imshow(img, cmap='gray')\n",
        "  plt.axis('off')\n",
        "  plt.title('{} classified as {}'.format(categ_original[idx], categ_prediction[idx]))\n",
        "plt.savefig('prediction.png')"
      ],
      "metadata": {
        "colab": {
          "base_uri": "https://localhost:8080/",
          "height": 280
        },
        "id": "imKlHE4JrYu7",
        "outputId": "44e51892-253a-4004-8c5a-47730f8dded4"
      },
      "execution_count": 24,
      "outputs": [
        {
          "output_type": "display_data",
          "data": {
            "text/plain": [
              "<Figure size 432x288 with 9 Axes>"
            ],
            "image/png": "[encoded data removed]"
          },
          "metadata": {
            "needs_background": "light"
          }
        }
      ]
    },
    {
      "cell_type": "code",
      "source": [
        "from sklearn.metrics import confusion_matrix\n",
        "confusion_matrix(categ_original, categ_prediction)"
      ],
      "metadata": {
        "colab": {
          "base_uri": "https://localhost:8080/"
        },
        "id": "75TRAkTR8XMu",
        "outputId": "8e185707-69a6-4bf4-88d2-c15860f0a2ea"
      },
      "execution_count": 18,
      "outputs": [
        {
          "output_type": "execute_result",
          "data": {
            "text/plain": [
              "array([[ 966,    0,    1,    1,    0,    6,    3,    1,    0,    2],\n",
              "       [   0, 1122,    3,    2,    0,    1,    1,    1,    5,    0],\n",
              "       [   5,    5,  977,    9,    5,    1,   10,    8,   12,    0],\n",
              "       [   1,    1,   12,  951,    0,   17,    0,   10,   12,    6],\n",
              "       [   1,    1,    4,    0,  933,    0,    9,    3,    4,   27],\n",
              "       [   8,    2,    4,   13,    3,  822,   10,    4,   18,    8],\n",
              "       [   9,    3,    2,    1,   10,   16,  913,    0,    2,    2],\n",
              "       [   1,   12,   19,   10,    2,    1,    0,  962,    1,   20],\n",
              "       [   3,    4,    5,   21,    7,   18,   11,   10,  889,    6],\n",
              "       [   7,    9,    0,    8,   17,    8,    0,    5,    4,  951]])"
            ]
          },
          "metadata": {},
          "execution_count": 18
        }
      ]
    },
    {
      "cell_type": "code",
      "source": [
        "print('Total validation data: {}\\n'.format(x_test.shape[0]))\n",
        "print('Correctly classified data: {}'.format(len(np.where(categ_original == categ_prediction)[0])))\n",
        "print('Misclassified data: {}'.format(len(np.where(categ_original != categ_prediction)[0])))"
      ],
      "metadata": {
        "colab": {
          "base_uri": "https://localhost:8080/"
        },
        "id": "Xw6G68sxzL1n",
        "outputId": "2404972d-dd41-4374-8c51-4e8aa9525531"
      },
      "execution_count": 19,
      "outputs": [
        {
          "output_type": "stream",
          "name": "stdout",
          "text": [
            "Total validation data: 10000\n",
            "\n",
            "Correctly classified data: 9486\n",
            "Misclassified data: 514\n"
          ]
        }
      ]
    },
    {
      "cell_type": "code",
      "source": [
        "print('Accuracy in the validation set: {:.2f}%'.format(modelo.evaluate(X_test, Y_test, verbose=0)[1] * 100))"
      ],
      "metadata": {
        "colab": {
          "base_uri": "https://localhost:8080/"
        },
        "id": "yy7HQ4cAyAMG",
        "outputId": "61df151c-a0c5-44b8-bcef-0499d19e189c"
      },
      "execution_count": 20,
      "outputs": [
        {
          "output_type": "stream",
          "name": "stdout",
          "text": [
            "Accuracy in the validation set: 94.86%\n"
          ]
        }
      ]
    }
  ]
}